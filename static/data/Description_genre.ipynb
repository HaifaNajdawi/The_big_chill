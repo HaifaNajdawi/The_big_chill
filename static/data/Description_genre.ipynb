{
 "cells": [
  {
   "cell_type": "code",
   "execution_count": 1,
   "metadata": {},
   "outputs": [],
   "source": [
    "import pandas as pd\n",
    "import nltk\n",
    "import re\n",
    "# import csv\n",
    "import matplotlib.pyplot as plt \n",
    "import seaborn as sns\n",
    "# import sqlalchemy\n",
    "from sqlalchemy import create_engine\n",
    "from tqdm import tqdm\n",
    "from sklearn.feature_extraction.text import TfidfVectorizer\n",
    "from sklearn.model_selection import train_test_split\n",
    "from sklearn.pipeline import Pipeline\n",
    "\n",
    "%matplotlib inline\n",
    "pd.set_option('display.max_colwidth', 300)\n"
   ]
  },
  {
   "cell_type": "code",
   "execution_count": 3,
   "metadata": {},
   "outputs": [
    {
     "data": {
      "text/html": [
       "<div>\n",
       "<style scoped>\n",
       "    .dataframe tbody tr th:only-of-type {\n",
       "        vertical-align: middle;\n",
       "    }\n",
       "\n",
       "    .dataframe tbody tr th {\n",
       "        vertical-align: top;\n",
       "    }\n",
       "\n",
       "    .dataframe thead th {\n",
       "        text-align: right;\n",
       "    }\n",
       "</style>\n",
       "<table border=\"1\" class=\"dataframe\">\n",
       "  <thead>\n",
       "    <tr style=\"text-align: right;\">\n",
       "      <th></th>\n",
       "      <th>title</th>\n",
       "      <th>rating</th>\n",
       "      <th>description</th>\n",
       "      <th>omdb_genre</th>\n",
       "    </tr>\n",
       "  </thead>\n",
       "  <tbody>\n",
       "    <tr>\n",
       "      <th>0</th>\n",
       "      <td>Norm of the North: King Sized Adventure</td>\n",
       "      <td>TV-PG</td>\n",
       "      <td>Before planning an awesome wedding for his grandfather, a polar bear king must take back a stolen artifact from an evil archaeologist first.</td>\n",
       "      <td>Animation</td>\n",
       "    </tr>\n",
       "    <tr>\n",
       "      <th>1</th>\n",
       "      <td>Norm of the North: King Sized Adventure</td>\n",
       "      <td>TV-PG</td>\n",
       "      <td>Before planning an awesome wedding for his grandfather, a polar bear king must take back a stolen artifact from an evil archaeologist first.</td>\n",
       "      <td>Adventure</td>\n",
       "    </tr>\n",
       "    <tr>\n",
       "      <th>2</th>\n",
       "      <td>Norm of the North: King Sized Adventure</td>\n",
       "      <td>TV-PG</td>\n",
       "      <td>Before planning an awesome wedding for his grandfather, a polar bear king must take back a stolen artifact from an evil archaeologist first.</td>\n",
       "      <td>Comedy</td>\n",
       "    </tr>\n",
       "    <tr>\n",
       "      <th>3</th>\n",
       "      <td>Norm of the North: King Sized Adventure</td>\n",
       "      <td>TV-PG</td>\n",
       "      <td>Before planning an awesome wedding for his grandfather, a polar bear king must take back a stolen artifact from an evil archaeologist first.</td>\n",
       "      <td>Family</td>\n",
       "    </tr>\n",
       "    <tr>\n",
       "      <th>4</th>\n",
       "      <td>Jandino: Whatever it Takes</td>\n",
       "      <td>TV-MA</td>\n",
       "      <td>Jandino Asporaat riffs on the challenges of raising kids and serenades the audience with a rousing rendition of \"Sex on Fire\" in his comedy show.</td>\n",
       "      <td>Comedy</td>\n",
       "    </tr>\n",
       "  </tbody>\n",
       "</table>\n",
       "</div>"
      ],
      "text/plain": [
       "                                     title rating  \\\n",
       "0  Norm of the North: King Sized Adventure  TV-PG   \n",
       "1  Norm of the North: King Sized Adventure  TV-PG   \n",
       "2  Norm of the North: King Sized Adventure  TV-PG   \n",
       "3  Norm of the North: King Sized Adventure  TV-PG   \n",
       "4               Jandino: Whatever it Takes  TV-MA   \n",
       "\n",
       "                                                                                                                                         description  \\\n",
       "0       Before planning an awesome wedding for his grandfather, a polar bear king must take back a stolen artifact from an evil archaeologist first.   \n",
       "1       Before planning an awesome wedding for his grandfather, a polar bear king must take back a stolen artifact from an evil archaeologist first.   \n",
       "2       Before planning an awesome wedding for his grandfather, a polar bear king must take back a stolen artifact from an evil archaeologist first.   \n",
       "3       Before planning an awesome wedding for his grandfather, a polar bear king must take back a stolen artifact from an evil archaeologist first.   \n",
       "4  Jandino Asporaat riffs on the challenges of raising kids and serenades the audience with a rousing rendition of \"Sex on Fire\" in his comedy show.   \n",
       "\n",
       "  omdb_genre  \n",
       "0  Animation  \n",
       "1  Adventure  \n",
       "2     Comedy  \n",
       "3     Family  \n",
       "4     Comedy  "
      ]
     },
     "execution_count": 3,
     "metadata": {},
     "output_type": "execute_result"
    }
   ],
   "source": [
    "# meta = pd.read_csv(\"netflix_titles.csv\")\n",
    "rds_connection_string = f\"roo2:123456@netflix.cy8gt7mz64dd.us-east-2.rds.amazonaws.com:5432/postgres\"\n",
    "engine = create_engine(f'postgresql://{rds_connection_string}')\n",
    "meta = pd.read_sql_query('''SELECT t.title, t.rating, t.description, og.omdb_genre\\\n",
    "                        FROM public.\"Title\" t\\\n",
    "                        LEFT JOIN public.\"OMDB_title_genre\" ot\\\n",
    "                        ON t.show_id = ot.show_id\\\n",
    "                        LEFT JOIN public.\"OMDB_genre\" og\\\n",
    "                        ON ot.omdb_genre_no = og.omdb_genre_no\n",
    "                        WHERE og.omdb_genre is not null''', engine)\n",
    "meta.head()"
   ]
  },
  {
   "cell_type": "code",
   "execution_count": 4,
   "metadata": {},
   "outputs": [
    {
     "data": {
      "text/html": [
       "<div>\n",
       "<style scoped>\n",
       "    .dataframe tbody tr th:only-of-type {\n",
       "        vertical-align: middle;\n",
       "    }\n",
       "\n",
       "    .dataframe tbody tr th {\n",
       "        vertical-align: top;\n",
       "    }\n",
       "\n",
       "    .dataframe thead th {\n",
       "        text-align: right;\n",
       "    }\n",
       "</style>\n",
       "<table border=\"1\" class=\"dataframe\">\n",
       "  <thead>\n",
       "    <tr style=\"text-align: right;\">\n",
       "      <th></th>\n",
       "      <th>title</th>\n",
       "      <th>description</th>\n",
       "      <th>omdb_genre</th>\n",
       "    </tr>\n",
       "  </thead>\n",
       "  <tbody>\n",
       "    <tr>\n",
       "      <th>0</th>\n",
       "      <td>'89</td>\n",
       "      <td>Mixing old footage with interviews, this is the story of Arsenal's improbable win versus Liverpool in the final moments of the 1989 championship game.</td>\n",
       "      <td>Drama</td>\n",
       "    </tr>\n",
       "    <tr>\n",
       "      <th>1</th>\n",
       "      <td>(T)ERROR</td>\n",
       "      <td>This real-life look at FBI counterterrorism operations features access to both sides of a sting: the government informant and the radicalized target.</td>\n",
       "      <td>Documentary</td>\n",
       "    </tr>\n",
       "    <tr>\n",
       "      <th>2</th>\n",
       "      <td>1 Chance 2 Dance</td>\n",
       "      <td>When an aspiring dancer is uprooted during her senior year of high school, she finds herself torn between two boys – and with one shot at her dream.</td>\n",
       "      <td>Family,Drama</td>\n",
       "    </tr>\n",
       "    <tr>\n",
       "      <th>3</th>\n",
       "      <td>1 Mile to You</td>\n",
       "      <td>After escaping the bus accident that killed his girlfriend, a high school student channels his grief into running, with the help of a new coach.</td>\n",
       "      <td>Sport,Romance,Drama</td>\n",
       "    </tr>\n",
       "    <tr>\n",
       "      <th>4</th>\n",
       "      <td>10 Days in Sun City</td>\n",
       "      <td>After his girlfriend wins the Miss Nigeria pageant, a young man faces unexpected competition of his own when he joins her on a campaign in South Africa.</td>\n",
       "      <td>Comedy,Adventure,Romance</td>\n",
       "    </tr>\n",
       "  </tbody>\n",
       "</table>\n",
       "</div>"
      ],
      "text/plain": [
       "                 title  \\\n",
       "0                  '89   \n",
       "1             (T)ERROR   \n",
       "2     1 Chance 2 Dance   \n",
       "3        1 Mile to You   \n",
       "4  10 Days in Sun City   \n",
       "\n",
       "                                                                                                                                                description  \\\n",
       "0    Mixing old footage with interviews, this is the story of Arsenal's improbable win versus Liverpool in the final moments of the 1989 championship game.   \n",
       "1     This real-life look at FBI counterterrorism operations features access to both sides of a sting: the government informant and the radicalized target.   \n",
       "2      When an aspiring dancer is uprooted during her senior year of high school, she finds herself torn between two boys – and with one shot at her dream.   \n",
       "3          After escaping the bus accident that killed his girlfriend, a high school student channels his grief into running, with the help of a new coach.   \n",
       "4  After his girlfriend wins the Miss Nigeria pageant, a young man faces unexpected competition of his own when he joins her on a campaign in South Africa.   \n",
       "\n",
       "                 omdb_genre  \n",
       "0                     Drama  \n",
       "1               Documentary  \n",
       "2              Family,Drama  \n",
       "3       Sport,Romance,Drama  \n",
       "4  Comedy,Adventure,Romance  "
      ]
     },
     "execution_count": 4,
     "metadata": {},
     "output_type": "execute_result"
    }
   ],
   "source": [
    "metas = meta.groupby('title').agg(lambda x: ','.join(set(x))).reset_index()\n",
    "metas.head()"
   ]
  },
  {
   "cell_type": "code",
   "execution_count": 5,
   "metadata": {},
   "outputs": [],
   "source": [
    "movies = metas.rename(columns={\"omdb_genre\":\"genre\"})\n",
    "# movies = movie.drop(columns=['type', 'director', 'cast','country','date_added', 'release_year','duration'])\n",
    "# movies.genre.unique()"
   ]
  },
  {
   "cell_type": "code",
   "execution_count": 6,
   "metadata": {},
   "outputs": [
    {
     "data": {
      "text/html": [
       "<div>\n",
       "<style scoped>\n",
       "    .dataframe tbody tr th:only-of-type {\n",
       "        vertical-align: middle;\n",
       "    }\n",
       "\n",
       "    .dataframe tbody tr th {\n",
       "        vertical-align: top;\n",
       "    }\n",
       "\n",
       "    .dataframe thead th {\n",
       "        text-align: right;\n",
       "    }\n",
       "</style>\n",
       "<table border=\"1\" class=\"dataframe\">\n",
       "  <thead>\n",
       "    <tr style=\"text-align: right;\">\n",
       "      <th></th>\n",
       "      <th>title</th>\n",
       "      <th>description</th>\n",
       "      <th>genre</th>\n",
       "    </tr>\n",
       "  </thead>\n",
       "  <tbody>\n",
       "    <tr>\n",
       "      <th>0</th>\n",
       "      <td>'89</td>\n",
       "      <td>Mixing old footage with interviews, this is the story of Arsenal's improbable win versus Liverpool in the final moments of the 1989 championship game.</td>\n",
       "      <td>[Drama]</td>\n",
       "    </tr>\n",
       "    <tr>\n",
       "      <th>1</th>\n",
       "      <td>(T)ERROR</td>\n",
       "      <td>This real-life look at FBI counterterrorism operations features access to both sides of a sting: the government informant and the radicalized target.</td>\n",
       "      <td>[Documentary]</td>\n",
       "    </tr>\n",
       "    <tr>\n",
       "      <th>2</th>\n",
       "      <td>1 Chance 2 Dance</td>\n",
       "      <td>When an aspiring dancer is uprooted during her senior year of high school, she finds herself torn between two boys – and with one shot at her dream.</td>\n",
       "      <td>[Family, Drama]</td>\n",
       "    </tr>\n",
       "    <tr>\n",
       "      <th>3</th>\n",
       "      <td>1 Mile to You</td>\n",
       "      <td>After escaping the bus accident that killed his girlfriend, a high school student channels his grief into running, with the help of a new coach.</td>\n",
       "      <td>[Sport, Romance, Drama]</td>\n",
       "    </tr>\n",
       "    <tr>\n",
       "      <th>4</th>\n",
       "      <td>10 Days in Sun City</td>\n",
       "      <td>After his girlfriend wins the Miss Nigeria pageant, a young man faces unexpected competition of his own when he joins her on a campaign in South Africa.</td>\n",
       "      <td>[Comedy, Adventure, Romance]</td>\n",
       "    </tr>\n",
       "  </tbody>\n",
       "</table>\n",
       "</div>"
      ],
      "text/plain": [
       "                 title  \\\n",
       "0                  '89   \n",
       "1             (T)ERROR   \n",
       "2     1 Chance 2 Dance   \n",
       "3        1 Mile to You   \n",
       "4  10 Days in Sun City   \n",
       "\n",
       "                                                                                                                                                description  \\\n",
       "0    Mixing old footage with interviews, this is the story of Arsenal's improbable win versus Liverpool in the final moments of the 1989 championship game.   \n",
       "1     This real-life look at FBI counterterrorism operations features access to both sides of a sting: the government informant and the radicalized target.   \n",
       "2      When an aspiring dancer is uprooted during her senior year of high school, she finds herself torn between two boys – and with one shot at her dream.   \n",
       "3          After escaping the bus accident that killed his girlfriend, a high school student channels his grief into running, with the help of a new coach.   \n",
       "4  After his girlfriend wins the Miss Nigeria pageant, a young man faces unexpected competition of his own when he joins her on a campaign in South Africa.   \n",
       "\n",
       "                          genre  \n",
       "0                       [Drama]  \n",
       "1                 [Documentary]  \n",
       "2               [Family, Drama]  \n",
       "3       [Sport, Romance, Drama]  \n",
       "4  [Comedy, Adventure, Romance]  "
      ]
     },
     "execution_count": 6,
     "metadata": {},
     "output_type": "execute_result"
    }
   ],
   "source": [
    "# split the genre on the , into a list\n",
    "# movies_list = movies.assign(genre=movies.genre.str.split(',')).explode('genre')\n",
    "\n",
    "movies[\"genre\"] = movies[\"genre\"].str.split('\\s*,\\s*')\n",
    "# movies[\"genre\"] = movies[\"genre\"].str.split('\\s*,\\s*')\n",
    "movies_list = movies\n",
    "movies_list.head()"
   ]
  },
  {
   "cell_type": "code",
   "execution_count": 7,
   "metadata": {},
   "outputs": [
    {
     "data": {
      "text/plain": [
       "28"
      ]
     },
     "execution_count": 7,
     "metadata": {},
     "output_type": "execute_result"
    }
   ],
   "source": [
    "# movies_list['genre'].nunique()\n",
    "# genre_df = pd.DataFrame(movies_list.genre.unique())\n",
    "genre_df = pd.DataFrame(movies_list['genre'].value_counts())\n",
    "genre_df.reset_index()\n",
    "genre_df\n",
    "\n",
    "movies_list[\"genre\"].explode().nunique()"
   ]
  },
  {
   "cell_type": "code",
   "execution_count": 8,
   "metadata": {},
   "outputs": [],
   "source": [
    "# grouped = movies_list.groupby('genre')\n"
   ]
  },
  {
   "cell_type": "code",
   "execution_count": 9,
   "metadata": {},
   "outputs": [
    {
     "data": {
      "text/html": [
       "<div>\n",
       "<style scoped>\n",
       "    .dataframe tbody tr th:only-of-type {\n",
       "        vertical-align: middle;\n",
       "    }\n",
       "\n",
       "    .dataframe tbody tr th {\n",
       "        vertical-align: top;\n",
       "    }\n",
       "\n",
       "    .dataframe thead th {\n",
       "        text-align: right;\n",
       "    }\n",
       "</style>\n",
       "<table border=\"1\" class=\"dataframe\">\n",
       "  <thead>\n",
       "    <tr style=\"text-align: right;\">\n",
       "      <th></th>\n",
       "      <th>title</th>\n",
       "      <th>description</th>\n",
       "      <th>genre</th>\n",
       "      <th>clean_description</th>\n",
       "    </tr>\n",
       "  </thead>\n",
       "  <tbody>\n",
       "    <tr>\n",
       "      <th>0</th>\n",
       "      <td>'89</td>\n",
       "      <td>Mixing old footage with interviews, this is the story of Arsenal's improbable win versus Liverpool in the final moments of the 1989 championship game.</td>\n",
       "      <td>[Drama]</td>\n",
       "      <td>mixing old footage with interviews this is the story of arsenals improbable win versus liverpool in the final moments of the championship game</td>\n",
       "    </tr>\n",
       "    <tr>\n",
       "      <th>1</th>\n",
       "      <td>(T)ERROR</td>\n",
       "      <td>This real-life look at FBI counterterrorism operations features access to both sides of a sting: the government informant and the radicalized target.</td>\n",
       "      <td>[Documentary]</td>\n",
       "      <td>this real life look at fbi counterterrorism operations features access to both sides of a sting the government informant and the radicalized target</td>\n",
       "    </tr>\n",
       "    <tr>\n",
       "      <th>2</th>\n",
       "      <td>1 Chance 2 Dance</td>\n",
       "      <td>When an aspiring dancer is uprooted during her senior year of high school, she finds herself torn between two boys – and with one shot at her dream.</td>\n",
       "      <td>[Family, Drama]</td>\n",
       "      <td>when an aspiring dancer is uprooted during her senior year of high school she finds herself torn between two boys and with one shot at her dream</td>\n",
       "    </tr>\n",
       "    <tr>\n",
       "      <th>3</th>\n",
       "      <td>1 Mile to You</td>\n",
       "      <td>After escaping the bus accident that killed his girlfriend, a high school student channels his grief into running, with the help of a new coach.</td>\n",
       "      <td>[Sport, Romance, Drama]</td>\n",
       "      <td>after escaping the bus accident that killed his girlfriend a high school student channels his grief into running with the help of a new coach</td>\n",
       "    </tr>\n",
       "    <tr>\n",
       "      <th>4</th>\n",
       "      <td>10 Days in Sun City</td>\n",
       "      <td>After his girlfriend wins the Miss Nigeria pageant, a young man faces unexpected competition of his own when he joins her on a campaign in South Africa.</td>\n",
       "      <td>[Comedy, Adventure, Romance]</td>\n",
       "      <td>after his girlfriend wins the miss nigeria pageant a young man faces unexpected competition of his own when he joins her on a campaign in south africa</td>\n",
       "    </tr>\n",
       "  </tbody>\n",
       "</table>\n",
       "</div>"
      ],
      "text/plain": [
       "                 title  \\\n",
       "0                  '89   \n",
       "1             (T)ERROR   \n",
       "2     1 Chance 2 Dance   \n",
       "3        1 Mile to You   \n",
       "4  10 Days in Sun City   \n",
       "\n",
       "                                                                                                                                                description  \\\n",
       "0    Mixing old footage with interviews, this is the story of Arsenal's improbable win versus Liverpool in the final moments of the 1989 championship game.   \n",
       "1     This real-life look at FBI counterterrorism operations features access to both sides of a sting: the government informant and the radicalized target.   \n",
       "2      When an aspiring dancer is uprooted during her senior year of high school, she finds herself torn between two boys – and with one shot at her dream.   \n",
       "3          After escaping the bus accident that killed his girlfriend, a high school student channels his grief into running, with the help of a new coach.   \n",
       "4  After his girlfriend wins the Miss Nigeria pageant, a young man faces unexpected competition of his own when he joins her on a campaign in South Africa.   \n",
       "\n",
       "                          genre  \\\n",
       "0                       [Drama]   \n",
       "1                 [Documentary]   \n",
       "2               [Family, Drama]   \n",
       "3       [Sport, Romance, Drama]   \n",
       "4  [Comedy, Adventure, Romance]   \n",
       "\n",
       "                                                                                                                                        clean_description  \n",
       "0          mixing old footage with interviews this is the story of arsenals improbable win versus liverpool in the final moments of the championship game  \n",
       "1     this real life look at fbi counterterrorism operations features access to both sides of a sting the government informant and the radicalized target  \n",
       "2        when an aspiring dancer is uprooted during her senior year of high school she finds herself torn between two boys and with one shot at her dream  \n",
       "3           after escaping the bus accident that killed his girlfriend a high school student channels his grief into running with the help of a new coach  \n",
       "4  after his girlfriend wins the miss nigeria pageant a young man faces unexpected competition of his own when he joins her on a campaign in south africa  "
      ]
     },
     "execution_count": 9,
     "metadata": {},
     "output_type": "execute_result"
    }
   ],
   "source": [
    "# function for text cleaning \n",
    "def clean_text(text):\n",
    "    # remove backslash-apostrophe \n",
    "    text = re.sub(\"\\'\", \"\", text) \n",
    "    # remove everything except alphabets \n",
    "    text = re.sub(\"[^a-zA-Z]\",\" \",text) \n",
    "    # remove whitespaces \n",
    "    text = ' '.join(text.split()) \n",
    "    # convert text to lowercase \n",
    "    text = text.lower() \n",
    "    \n",
    "    return text\n",
    "\n",
    "\n",
    "movies_list['clean_description'] = movies_list['description'].apply(lambda x: clean_text(x))\n",
    "movies_list.head()"
   ]
  },
  {
   "cell_type": "code",
   "execution_count": 10,
   "metadata": {},
   "outputs": [
    {
     "data": {
      "image/png": "[encoded data removed]",
      "text/plain": [
       "<Figure size 864x1080 with 1 Axes>"
      ]
     },
     "metadata": {
      "needs_background": "light"
     },
     "output_type": "display_data"
    }
   ],
   "source": [
    "def freq_words(x, terms = 30): \n",
    "  all_words = ' '.join([text for text in x]) \n",
    "  all_words = all_words.split() \n",
    "  fdist = nltk.FreqDist(all_words) \n",
    "  words_df = pd.DataFrame({'word':list(fdist.keys()), 'count':list(fdist.values())}) \n",
    "  \n",
    "  # selecting top 20 most frequent words \n",
    "  d = words_df.nlargest(columns=\"count\", n = terms) \n",
    "  \n",
    "  # visualize words and frequencies\n",
    "  plt.figure(figsize=(12,15)) \n",
    "  ax = sns.barplot(data=d, x= \"count\", y = \"word\") \n",
    "  ax.set(ylabel = 'Word') \n",
    "  plt.show()\n",
    "  \n",
    "# print 100 most frequent words \n",
    "freq_words(movies_list['clean_description'], 100)"
   ]
  },
  {
   "cell_type": "code",
   "execution_count": 11,
   "metadata": {},
   "outputs": [
    {
     "name": "stderr",
     "output_type": "stream",
     "text": [
      "[nltk_data] Downloading package stopwords to\n",
      "[nltk_data]     C:\\Users\\julie\\AppData\\Roaming\\nltk_data...\n",
      "[nltk_data]   Package stopwords is already up-to-date!\n"
     ]
    },
    {
     "data": {
      "text/plain": [
       "True"
      ]
     },
     "execution_count": 11,
     "metadata": {},
     "output_type": "execute_result"
    }
   ],
   "source": [
    "nltk.download('stopwords')"
   ]
  },
  {
   "cell_type": "code",
   "execution_count": 12,
   "metadata": {},
   "outputs": [],
   "source": [
    "from nltk.corpus import stopwords\n",
    "stop_words = set(stopwords.words('english'))\n",
    "\n",
    "# function to remove stopwords\n",
    "def remove_stopwords(text):\n",
    "    no_stopword_text = [w for w in text.split() if not w in stop_words]\n",
    "    return ' '.join(no_stopword_text)\n",
    "\n",
    "movies_list['clean_descriptions'] = movies_list['clean_description'].apply(lambda x: remove_stopwords(x))"
   ]
  },
  {
   "cell_type": "code",
   "execution_count": 13,
   "metadata": {},
   "outputs": [
    {
     "data": {
      "image/png": "[encoded data removed]",
      "text/plain": [
       "<Figure size 864x1080 with 1 Axes>"
      ]
     },
     "metadata": {
      "needs_background": "light"
     },
     "output_type": "display_data"
    }
   ],
   "source": [
    "freq_words(movies_list['clean_descriptions'], 100)"
   ]
  },
  {
   "cell_type": "code",
   "execution_count": 14,
   "metadata": {},
   "outputs": [],
   "source": [
    "from sklearn.preprocessing import MultiLabelBinarizer\n",
    "\n",
    "\n",
    "multilabel_binarizer = MultiLabelBinarizer()\n",
    "multilabel_binarizer.fit(movies_list['genre'])\n",
    "\n",
    "# transform target variable\n",
    "y = multilabel_binarizer.transform(movies_list['genre'])"
   ]
  },
  {
   "cell_type": "code",
   "execution_count": 15,
   "metadata": {},
   "outputs": [],
   "source": [
    "tfidf_vectorizer = TfidfVectorizer(max_df=0.3, max_features=1500)"
   ]
  },
  {
   "cell_type": "code",
   "execution_count": 16,
   "metadata": {},
   "outputs": [],
   "source": [
    "xtrain, xval, ytrain, yval = train_test_split(movies_list['clean_descriptions'], y, test_size=0.01, random_state=9)"
   ]
  },
  {
   "cell_type": "code",
   "execution_count": 17,
   "metadata": {},
   "outputs": [],
   "source": [
    "xtrain_tfidf = tfidf_vectorizer.fit_transform(xtrain)\n",
    "xval_tfidf = tfidf_vectorizer.transform(xval)"
   ]
  },
  {
   "cell_type": "code",
   "execution_count": 18,
   "metadata": {},
   "outputs": [],
   "source": [
    "from sklearn.linear_model import LogisticRegression\n",
    "\n",
    "# Binary Relevance\n",
    "from sklearn.multiclass import OneVsRestClassifier\n",
    "\n",
    "# Performance metric\n",
    "from sklearn.metrics import f1_score"
   ]
  },
  {
   "cell_type": "code",
   "execution_count": 19,
   "metadata": {},
   "outputs": [],
   "source": [
    "lr = LogisticRegression()\n",
    "clf = OneVsRestClassifier(lr)\n",
    "# xtrain_tfidf\n"
   ]
  },
  {
   "cell_type": "code",
   "execution_count": 20,
   "metadata": {},
   "outputs": [],
   "source": [
    "LogReg_pipeline = Pipeline([\n",
    "    ('vectorizer', tfidf_vectorizer),\n",
    "    ('clf', OneVsRestClassifier(LogisticRegression()))\n",
    "    \n",
    "                           ])\n",
    "\n",
    "# Training logistic regression model on train data\n"
   ]
  },
  {
   "cell_type": "code",
   "execution_count": 21,
   "metadata": {},
   "outputs": [
    {
     "data": {
      "text/plain": [
       "Pipeline(steps=[('vectorizer', TfidfVectorizer(max_df=0.3, max_features=1500)),\n",
       "                ('clf', OneVsRestClassifier(estimator=LogisticRegression()))])"
      ]
     },
     "execution_count": 21,
     "metadata": {},
     "output_type": "execute_result"
    }
   ],
   "source": [
    "LogReg_pipeline.fit(xtrain, ytrain)"
   ]
  },
  {
   "cell_type": "code",
   "execution_count": 22,
   "metadata": {},
   "outputs": [],
   "source": [
    "# fit model on train data\n",
    "# clf.fit(xtrain_tfidf, ytrain)"
   ]
  },
  {
   "cell_type": "code",
   "execution_count": 23,
   "metadata": {},
   "outputs": [],
   "source": [
    "# make predictions for validation set\n",
    "y_pred = LogReg_pipeline.predict(xval)"
   ]
  },
  {
   "cell_type": "code",
   "execution_count": 24,
   "metadata": {},
   "outputs": [
    {
     "data": {
      "text/plain": [
       "array([0, 0, 0, 0, 0, 1, 0, 0, 0, 0, 0, 0, 0, 0, 0, 0, 0, 0, 0, 0, 0, 0,\n",
       "       0, 0, 0, 0, 0, 0])"
      ]
     },
     "execution_count": 24,
     "metadata": {},
     "output_type": "execute_result"
    }
   ],
   "source": [
    "y_pred[3]"
   ]
  },
  {
   "cell_type": "code",
   "execution_count": 25,
   "metadata": {},
   "outputs": [
    {
     "data": {
      "text/plain": [
       "('Comedy',)"
      ]
     },
     "execution_count": 25,
     "metadata": {},
     "output_type": "execute_result"
    }
   ],
   "source": [
    "multilabel_binarizer.inverse_transform(y_pred)[3]"
   ]
  },
  {
   "cell_type": "code",
   "execution_count": 27,
   "metadata": {},
   "outputs": [
    {
     "data": {
      "text/plain": [
       "0.4352941176470588"
      ]
     },
     "execution_count": 27,
     "metadata": {},
     "output_type": "execute_result"
    }
   ],
   "source": [
    "# evaluate performance\n",
    "f1_score(yval, y_pred, average=\"micro\")\n"
   ]
  },
  {
   "cell_type": "code",
   "execution_count": 28,
   "metadata": {},
   "outputs": [],
   "source": [
    "def infer_tags(q):\n",
    "    q = clean_text(q)\n",
    "    q = remove_stopwords(q)\n",
    "#     q_vec = tfidf_vectorizer.transform([q])\n",
    "    q_pred = LogReg_pipeline.predict([q])\n",
    "    return multilabel_binarizer.inverse_transform(q_pred)"
   ]
  },
  {
   "cell_type": "code",
   "execution_count": 32,
   "metadata": {},
   "outputs": [
    {
     "name": "stdout",
     "output_type": "stream",
     "text": [
      "Movie:  EMI: Liya Hai To Chukana Padega \n",
      "Predicted genre:  [('Comedy',)]\n",
      "Actual genre:  ['Comedy', 'Crime', 'Drama'] \n",
      "\n",
      "Movie:  Tales of the City \n",
      "Predicted genre:  [()]\n",
      "Actual genre:  ['Drama'] \n",
      "\n",
      "Movie:  Shuddhi \n",
      "Predicted genre:  [('Drama',)]\n",
      "Actual genre:  ['Thriller', 'Crime', 'Drama'] \n",
      "\n",
      "Movie:  Compulsion \n",
      "Predicted genre:  [('Drama',)]\n",
      "Actual genre:  ['Biography', 'History', 'Thriller', 'Crime', 'Drama'] \n",
      "\n",
      "Movie:  Tales of the City \n",
      "Predicted genre:  [()]\n",
      "Actual genre:  ['Drama'] \n",
      "\n",
      "Movie:  The Only Mother To You All \n",
      "Predicted genre:  [('Comedy', 'Drama')]\n",
      "Actual genre:  ['Comedy'] \n",
      "\n",
      "Movie:  Secret Obsession \n",
      "Predicted genre:  [('Thriller',)]\n",
      "Actual genre:  ['Thriller'] \n",
      "\n",
      "Movie:  EMI: Liya Hai To Chukana Padega \n",
      "Predicted genre:  [('Comedy',)]\n",
      "Actual genre:  ['Comedy', 'Crime', 'Drama'] \n",
      "\n",
      "Movie:  Kulipari: Dream Walker \n",
      "Predicted genre:  [('Action',)]\n",
      "Actual genre:  ['Fantasy', 'Action', 'Animation'] \n",
      "\n",
      "Movie:  Secret Obsession \n",
      "Predicted genre:  [('Thriller',)]\n",
      "Actual genre:  ['Thriller'] \n",
      "\n"
     ]
    }
   ],
   "source": [
    "for i in range(10): \n",
    "    k = xval.sample(1).index[0] \n",
    "    print(\"Movie: \", movies_list['title'][k], \"\\nPredicted genre: \", infer_tags(xval[k])), print(\"Actual genre: \",movies_list['genre'][k], \"\\n\")"
   ]
  },
  {
   "cell_type": "code",
   "execution_count": null,
   "metadata": {},
   "outputs": [],
   "source": [
    "test_desc = 'drug dealers'\n",
    "print(\"Predicted genre: \", infer_tags(test_desc))"
   ]
  },
  {
   "cell_type": "code",
   "execution_count": null,
   "metadata": {},
   "outputs": [],
   "source": [
    "# from joblib import dump, load\n",
    "# dump(LogReg_pipeline, 'description_genre.joblib') \n",
    "import pickle\n",
    "with open('./static/data/description_genre.pkl', 'rb') as f:\n",
    "    multilabel_binarizer, LogReg_pipeline = pickle.load(f)\n",
    "with open('./static/data/description_rating.pkl', 'rb') as r:\n",
    "    multilabel_binarizer_rating, LogRegRating_pipeline = pickle.load(r)"
   ]
  },
  {
   "cell_type": "code",
   "execution_count": null,
   "metadata": {},
   "outputs": [],
   "source": []
  }
 ],
 "metadata": {
  "kernelspec": {
   "display_name": "Python 3",
   "language": "python",
   "name": "python3"
  },
  "language_info": {
   "codemirror_mode": {
    "name": "ipython",
    "version": 3
   },
   "file_extension": ".py",
   "mimetype": "text/x-python",
   "name": "python",
   "nbconvert_exporter": "python",
   "pygments_lexer": "ipython3",
   "version": "3.8.3"
  }
 },
 "nbformat": 4,
 "nbformat_minor": 4
}