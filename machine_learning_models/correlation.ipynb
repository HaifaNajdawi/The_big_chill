{
 "metadata": {
  "language_info": {
   "codemirror_mode": {
    "name": "ipython",
    "version": 3
   },
   "file_extension": ".py",
   "mimetype": "text/x-python",
   "name": "python",
   "nbconvert_exporter": "python",
   "pygments_lexer": "ipython3",
   "version": "3.7.6-final"
  },
  "orig_nbformat": 2,
  "kernelspec": {
   "name": "python376jvsc74a57bd099a237a7b17063c1b1ae23bbf27b3d3bfbaf022698a4da3d51312123ec3b869e",
   "display_name": "Python 3.7.6 64-bit (conda)"
  }
 },
 "nbformat": 4,
 "nbformat_minor": 2,
 "cells": [
  {
   "cell_type": "code",
   "execution_count": 2,
   "metadata": {},
   "outputs": [],
   "source": [
    "import pandas as pd \n",
    "import matplotlib.pyplot as plt\n"
   ]
  },
  {
   "cell_type": "code",
   "execution_count": 3,
   "metadata": {},
   "outputs": [
    {
     "output_type": "execute_result",
     "data": {
      "text/plain": [
       "   director  country  date_added  imdbRating  imdbVotes  language  time  \\\n",
       "0         0        1      2019.0         3.3      311.0         1    90   \n",
       "1         0        0      2016.0         4.8       23.0         1    94   \n",
       "2         0        1      2018.0         7.9     5454.0         1     0   \n",
       "3         0        1      2018.0         6.0      842.0         1     0   \n",
       "4         0        1      2017.0         5.9      292.0         1   110   \n",
       "\n",
       "   season  type_Movie  type_TV Show  genre  cast_shows  cast_movies  \n",
       "0       0         1.0           0.0    0.0         0.0          0.0  \n",
       "1       0         1.0           0.0    0.0         0.0          0.0  \n",
       "2       1         0.0           1.0    0.0         0.0          0.0  \n",
       "3       1         0.0           1.0    0.0         0.0          0.0  \n",
       "4       0         0.0           1.0    0.0         0.0          0.0  "
      ],
      "text/html": "<div>\n<style scoped>\n    .dataframe tbody tr th:only-of-type {\n        vertical-align: middle;\n    }\n\n    .dataframe tbody tr th {\n        vertical-align: top;\n    }\n\n    .dataframe thead th {\n        text-align: right;\n    }\n</style>\n<table border=\"1\" class=\"dataframe\">\n  <thead>\n    <tr style=\"text-align: right;\">\n      <th></th>\n      <th>director</th>\n      <th>country</th>\n      <th>date_added</th>\n      <th>imdbRating</th>\n      <th>imdbVotes</th>\n      <th>language</th>\n      <th>time</th>\n      <th>season</th>\n      <th>type_Movie</th>\n      <th>type_TV Show</th>\n      <th>genre</th>\n      <th>cast_shows</th>\n      <th>cast_movies</th>\n    </tr>\n  </thead>\n  <tbody>\n    <tr>\n      <th>0</th>\n      <td>0</td>\n      <td>1</td>\n      <td>2019.0</td>\n      <td>3.3</td>\n      <td>311.0</td>\n      <td>1</td>\n      <td>90</td>\n      <td>0</td>\n      <td>1.0</td>\n      <td>0.0</td>\n      <td>0.0</td>\n      <td>0.0</td>\n      <td>0.0</td>\n    </tr>\n    <tr>\n      <th>1</th>\n      <td>0</td>\n      <td>0</td>\n      <td>2016.0</td>\n      <td>4.8</td>\n      <td>23.0</td>\n      <td>1</td>\n      <td>94</td>\n      <td>0</td>\n      <td>1.0</td>\n      <td>0.0</td>\n      <td>0.0</td>\n      <td>0.0</td>\n      <td>0.0</td>\n    </tr>\n    <tr>\n      <th>2</th>\n      <td>0</td>\n      <td>1</td>\n      <td>2018.0</td>\n      <td>7.9</td>\n      <td>5454.0</td>\n      <td>1</td>\n      <td>0</td>\n      <td>1</td>\n      <td>0.0</td>\n      <td>1.0</td>\n      <td>0.0</td>\n      <td>0.0</td>\n      <td>0.0</td>\n    </tr>\n    <tr>\n      <th>3</th>\n      <td>0</td>\n      <td>1</td>\n      <td>2018.0</td>\n      <td>6.0</td>\n      <td>842.0</td>\n      <td>1</td>\n      <td>0</td>\n      <td>1</td>\n      <td>0.0</td>\n      <td>1.0</td>\n      <td>0.0</td>\n      <td>0.0</td>\n      <td>0.0</td>\n    </tr>\n    <tr>\n      <th>4</th>\n      <td>0</td>\n      <td>1</td>\n      <td>2017.0</td>\n      <td>5.9</td>\n      <td>292.0</td>\n      <td>1</td>\n      <td>110</td>\n      <td>0</td>\n      <td>0.0</td>\n      <td>1.0</td>\n      <td>0.0</td>\n      <td>0.0</td>\n      <td>0.0</td>\n    </tr>\n  </tbody>\n</table>\n</div>"
     },
     "metadata": {},
     "execution_count": 3
    }
   ],
   "source": [
    "df=pd.read_csv(\"netflix_imdb.csv\")\n",
    "df=df.drop(columns=[\"Unnamed: 0\"])\n",
    "df.head()"
   ]
  },
  {
   "cell_type": "code",
   "execution_count": 5,
   "metadata": {},
   "outputs": [
    {
     "output_type": "stream",
     "name": "stdout",
     "text": [
      "corrlation between imdb rating and country -0.002501802239180002\n"
     ]
    }
   ],
   "source": [
    "country = df[\"director\"]\n",
    "rating = df[\"imdbRating\"]\n",
    "correlation = country.corr(rating)\n",
    "print(f\"corrlation between imdb rating and country {correlation}\")"
   ]
  },
  {
   "cell_type": "code",
   "execution_count": 6,
   "metadata": {},
   "outputs": [
    {
     "output_type": "stream",
     "name": "stdout",
     "text": [
      "corrlation between imdb rating and date added -0.018028108989836766\n"
     ]
    }
   ],
   "source": [
    "date_added = df[\"date_added\"]\n",
    "rating = df[\"imdbRating\"]\n",
    "correlation = date_added.corr(rating)\n",
    "print(f\"corrlation between imdb rating and date added {correlation}\")"
   ]
  },
  {
   "cell_type": "code",
   "execution_count": 7,
   "metadata": {},
   "outputs": [
    {
     "output_type": "stream",
     "name": "stdout",
     "text": [
      "corrlation between imdb rating and imdb votes 0.2015834570836991\n"
     ]
    }
   ],
   "source": [
    "votes = df[\"imdbVotes\"]\n",
    "rating = df[\"imdbRating\"]\n",
    "correlation = votes.corr(rating)\n",
    "print(f\"corrlation between imdb rating and imdb votes {correlation}\")"
   ]
  },
  {
   "cell_type": "code",
   "execution_count": 8,
   "metadata": {},
   "outputs": [
    {
     "output_type": "stream",
     "name": "stdout",
     "text": [
      "corrlation between imdb rating and language -0.015564395801566837\n"
     ]
    }
   ],
   "source": [
    "language = df[\"language\"]\n",
    "rating = df[\"imdbRating\"]\n",
    "correlation = language.corr(rating)\n",
    "print(f\"corrlation between imdb rating and language {correlation}\")"
   ]
  },
  {
   "cell_type": "code",
   "execution_count": 9,
   "metadata": {},
   "outputs": [
    {
     "output_type": "stream",
     "name": "stdout",
     "text": [
      "corrlation between imdb rating and duration-0.0010381156186001787\n"
     ]
    }
   ],
   "source": [
    "duration = df[\"time\"]\n",
    "rating = df[\"imdbRating\"]\n",
    "correlation = duration.corr(rating)\n",
    "print(f\"corrlation between imdb rating and duration{correlation}\")"
   ]
  },
  {
   "cell_type": "code",
   "execution_count": 10,
   "metadata": {},
   "outputs": [
    {
     "output_type": "stream",
     "name": "stdout",
     "text": [
      "corrlation between imdb rating and number of seasons-0.006310949860778726\n"
     ]
    }
   ],
   "source": [
    "seasons = df[\"season\"]\n",
    "rating = df[\"imdbRating\"]\n",
    "correlation = seasons.corr(rating)\n",
    "print(f\"corrlation between imdb rating and number of seasons{correlation}\")"
   ]
  },
  {
   "cell_type": "code",
   "execution_count": 11,
   "metadata": {},
   "outputs": [
    {
     "output_type": "stream",
     "name": "stdout",
     "text": [
      "corrlation between imdb rating and movies-0.2467262133333033\n"
     ]
    }
   ],
   "source": [
    "movie = df[\"type_Movie\"]\n",
    "rating = df[\"imdbRating\"]\n",
    "correlation = movie.corr(rating)\n",
    "print(f\"corrlation between imdb rating and movies{correlation}\")"
   ]
  },
  {
   "cell_type": "code",
   "execution_count": 12,
   "metadata": {},
   "outputs": [
    {
     "output_type": "stream",
     "name": "stdout",
     "text": [
      "corrlation between imdb rating and TV shows0.2467262133333033\n"
     ]
    }
   ],
   "source": [
    "tv_show = df[\"type_TV Show\"]\n",
    "rating = df[\"imdbRating\"]\n",
    "correlation = tv_show.corr(rating)\n",
    "print(f\"corrlation between imdb rating and TV shows{correlation}\")"
   ]
  },
  {
   "cell_type": "code",
   "execution_count": 13,
   "metadata": {},
   "outputs": [
    {
     "output_type": "stream",
     "name": "stdout",
     "text": [
      "corrlation between imdb rating and genre-0.0054129071779588185\n"
     ]
    }
   ],
   "source": [
    "genre = df[\"genre\"]\n",
    "rating = df[\"imdbRating\"]\n",
    "correlation = genre.corr(rating)\n",
    "print(f\"corrlation between imdb rating and genre{correlation}\")"
   ]
  },
  {
   "cell_type": "code",
   "execution_count": 14,
   "metadata": {},
   "outputs": [
    {
     "output_type": "stream",
     "name": "stdout",
     "text": [
      "corrlation between imdb rating and cast TV shows0.010446777554570281\n"
     ]
    }
   ],
   "source": [
    "cast_shows = df[\"cast_shows\"]\n",
    "rating = df[\"imdbRating\"]\n",
    "correlation = cast_shows.corr(rating)\n",
    "print(f\"corrlation between imdb rating and cast TV shows{correlation}\")"
   ]
  },
  {
   "cell_type": "code",
   "execution_count": 15,
   "metadata": {},
   "outputs": [
    {
     "output_type": "stream",
     "name": "stdout",
     "text": [
      "corrlation between imdb rating and cast movies-0.014533844655511967\n"
     ]
    }
   ],
   "source": [
    "cast_movie = df[\"cast_movies\"]\n",
    "rating = df[\"imdbRating\"]\n",
    "correlation = cast_movie.corr(rating)\n",
    "print(f\"corrlation between imdb rating and cast movies{correlation}\")"
   ]
  },
  {
   "cell_type": "code",
   "execution_count": null,
   "metadata": {},
   "outputs": [],
   "source": []
  }
 ]
}